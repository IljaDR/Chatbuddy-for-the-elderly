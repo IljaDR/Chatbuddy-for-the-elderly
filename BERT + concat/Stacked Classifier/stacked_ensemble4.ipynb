{
  "nbformat": 4,
  "nbformat_minor": 0,
  "metadata": {
    "colab": {
      "name": "stacked_ensemble4.ipynb",
      "provenance": [],
      "collapsed_sections": [],
      "toc_visible": true
    },
    "kernelspec": {
      "name": "python3",
      "display_name": "Python 3"
    },
    "language_info": {
      "name": "python"
    },
    "widgets": {
      "application/vnd.jupyter.widget-state+json": {
        "39c9dd9dc5444553995a399cee8c9c7c": {
          "model_module": "@jupyter-widgets/controls",
          "model_name": "HBoxModel",
          "state": {
            "_view_name": "HBoxView",
            "_dom_classes": [],
            "_model_name": "HBoxModel",
            "_view_module": "@jupyter-widgets/controls",
            "_model_module_version": "1.5.0",
            "_view_count": null,
            "_view_module_version": "1.5.0",
            "box_style": "",
            "layout": "IPY_MODEL_0a15da0cfd5a4725b71679eb39f063ba",
            "_model_module": "@jupyter-widgets/controls",
            "children": [
              "IPY_MODEL_acfdb33accc843e9b16050a9d555da68",
              "IPY_MODEL_fdddd1728a1a482f818fcbad7f4ff454"
            ]
          }
        },
        "0a15da0cfd5a4725b71679eb39f063ba": {
          "model_module": "@jupyter-widgets/base",
          "model_name": "LayoutModel",
          "state": {
            "_view_name": "LayoutView",
            "grid_template_rows": null,
            "right": null,
            "justify_content": null,
            "_view_module": "@jupyter-widgets/base",
            "overflow": null,
            "_model_module_version": "1.2.0",
            "_view_count": null,
            "flex_flow": null,
            "width": null,
            "min_width": null,
            "border": null,
            "align_items": null,
            "bottom": null,
            "_model_module": "@jupyter-widgets/base",
            "top": null,
            "grid_column": null,
            "overflow_y": null,
            "overflow_x": null,
            "grid_auto_flow": null,
            "grid_area": null,
            "grid_template_columns": null,
            "flex": null,
            "_model_name": "LayoutModel",
            "justify_items": null,
            "grid_row": null,
            "max_height": null,
            "align_content": null,
            "visibility": null,
            "align_self": null,
            "height": null,
            "min_height": null,
            "padding": null,
            "grid_auto_rows": null,
            "grid_gap": null,
            "max_width": null,
            "order": null,
            "_view_module_version": "1.2.0",
            "grid_template_areas": null,
            "object_position": null,
            "object_fit": null,
            "grid_auto_columns": null,
            "margin": null,
            "display": null,
            "left": null
          }
        },
        "acfdb33accc843e9b16050a9d555da68": {
          "model_module": "@jupyter-widgets/controls",
          "model_name": "FloatProgressModel",
          "state": {
            "_view_name": "ProgressView",
            "style": "IPY_MODEL_5959fd9f99fb4dbdb26ea99ca735700e",
            "_dom_classes": [],
            "description": "100%",
            "_model_name": "FloatProgressModel",
            "bar_style": "success",
            "max": 100,
            "_view_module": "@jupyter-widgets/controls",
            "_model_module_version": "1.5.0",
            "value": 100,
            "_view_count": null,
            "_view_module_version": "1.5.0",
            "orientation": "horizontal",
            "min": 0,
            "description_tooltip": null,
            "_model_module": "@jupyter-widgets/controls",
            "layout": "IPY_MODEL_af91959a59c5480eab57a3f7f472da41"
          }
        },
        "fdddd1728a1a482f818fcbad7f4ff454": {
          "model_module": "@jupyter-widgets/controls",
          "model_name": "HTMLModel",
          "state": {
            "_view_name": "HTMLView",
            "style": "IPY_MODEL_c36ea450a6d64cf29aeba5c9b50623f0",
            "_dom_classes": [],
            "description": "",
            "_model_name": "HTMLModel",
            "placeholder": "​",
            "_view_module": "@jupyter-widgets/controls",
            "_model_module_version": "1.5.0",
            "value": " 100/100 [02:12&lt;00:00,  1.32s/it]",
            "_view_count": null,
            "_view_module_version": "1.5.0",
            "description_tooltip": null,
            "_model_module": "@jupyter-widgets/controls",
            "layout": "IPY_MODEL_2ae3fa8ed275474b9f00030c5d5ff785"
          }
        },
        "5959fd9f99fb4dbdb26ea99ca735700e": {
          "model_module": "@jupyter-widgets/controls",
          "model_name": "ProgressStyleModel",
          "state": {
            "_view_name": "StyleView",
            "_model_name": "ProgressStyleModel",
            "description_width": "initial",
            "_view_module": "@jupyter-widgets/base",
            "_model_module_version": "1.5.0",
            "_view_count": null,
            "_view_module_version": "1.2.0",
            "bar_color": null,
            "_model_module": "@jupyter-widgets/controls"
          }
        },
        "af91959a59c5480eab57a3f7f472da41": {
          "model_module": "@jupyter-widgets/base",
          "model_name": "LayoutModel",
          "state": {
            "_view_name": "LayoutView",
            "grid_template_rows": null,
            "right": null,
            "justify_content": null,
            "_view_module": "@jupyter-widgets/base",
            "overflow": null,
            "_model_module_version": "1.2.0",
            "_view_count": null,
            "flex_flow": null,
            "width": null,
            "min_width": null,
            "border": null,
            "align_items": null,
            "bottom": null,
            "_model_module": "@jupyter-widgets/base",
            "top": null,
            "grid_column": null,
            "overflow_y": null,
            "overflow_x": null,
            "grid_auto_flow": null,
            "grid_area": null,
            "grid_template_columns": null,
            "flex": null,
            "_model_name": "LayoutModel",
            "justify_items": null,
            "grid_row": null,
            "max_height": null,
            "align_content": null,
            "visibility": null,
            "align_self": null,
            "height": null,
            "min_height": null,
            "padding": null,
            "grid_auto_rows": null,
            "grid_gap": null,
            "max_width": null,
            "order": null,
            "_view_module_version": "1.2.0",
            "grid_template_areas": null,
            "object_position": null,
            "object_fit": null,
            "grid_auto_columns": null,
            "margin": null,
            "display": null,
            "left": null
          }
        },
        "c36ea450a6d64cf29aeba5c9b50623f0": {
          "model_module": "@jupyter-widgets/controls",
          "model_name": "DescriptionStyleModel",
          "state": {
            "_view_name": "StyleView",
            "_model_name": "DescriptionStyleModel",
            "description_width": "",
            "_view_module": "@jupyter-widgets/base",
            "_model_module_version": "1.5.0",
            "_view_count": null,
            "_view_module_version": "1.2.0",
            "_model_module": "@jupyter-widgets/controls"
          }
        },
        "2ae3fa8ed275474b9f00030c5d5ff785": {
          "model_module": "@jupyter-widgets/base",
          "model_name": "LayoutModel",
          "state": {
            "_view_name": "LayoutView",
            "grid_template_rows": null,
            "right": null,
            "justify_content": null,
            "_view_module": "@jupyter-widgets/base",
            "overflow": null,
            "_model_module_version": "1.2.0",
            "_view_count": null,
            "flex_flow": null,
            "width": null,
            "min_width": null,
            "border": null,
            "align_items": null,
            "bottom": null,
            "_model_module": "@jupyter-widgets/base",
            "top": null,
            "grid_column": null,
            "overflow_y": null,
            "overflow_x": null,
            "grid_auto_flow": null,
            "grid_area": null,
            "grid_template_columns": null,
            "flex": null,
            "_model_name": "LayoutModel",
            "justify_items": null,
            "grid_row": null,
            "max_height": null,
            "align_content": null,
            "visibility": null,
            "align_self": null,
            "height": null,
            "min_height": null,
            "padding": null,
            "grid_auto_rows": null,
            "grid_gap": null,
            "max_width": null,
            "order": null,
            "_view_module_version": "1.2.0",
            "grid_template_areas": null,
            "object_position": null,
            "object_fit": null,
            "grid_auto_columns": null,
            "margin": null,
            "display": null,
            "left": null
          }
        }
      }
    }
  },
  "cells": [
    {
      "cell_type": "markdown",
      "metadata": {
        "id": "X1iP-w43ONu-"
      },
      "source": [
        "# **Stacked ensemble network combining previously trained Emotion classifiers**\n"
      ]
    },
    {
      "cell_type": "markdown",
      "metadata": {
        "id": "fiC_StGAOphO"
      },
      "source": [
        "Code adapted from a multilabel classifier for the Kaggle Wine challange https://towardsdatascience.com/pytorch-tabular-multiclass-classification-9f8211a123ab"
      ]
    },
    {
      "cell_type": "code",
      "metadata": {
        "id": "zuVtnEXkN2D_"
      },
      "source": [
        "import numpy as np\n",
        "import pandas as pd\n",
        "import seaborn as sns\n",
        "from tqdm.notebook import tqdm\n",
        "import matplotlib.pyplot as plt\n",
        "\n",
        "import torch\n",
        "import torch.nn as nn\n",
        "import torch.optim as optim\n",
        "from torch.utils.data import Dataset, DataLoader, WeightedRandomSampler\n",
        "\n",
        "from sklearn.preprocessing import MinMaxScaler    \n",
        "from sklearn.model_selection import train_test_split\n",
        "from sklearn.metrics import confusion_matrix, classification_report"
      ],
      "execution_count": 1,
      "outputs": []
    },
    {
      "cell_type": "code",
      "metadata": {
        "colab": {
          "base_uri": "https://localhost:8080/",
          "height": 204
        },
        "id": "bYMigL6kX9cR",
        "outputId": "dae947d9-0b8d-4834-8920-d7dba8705261"
      },
      "source": [
        "df = pd.read_csv(\"merged_a_d_e_all.csv\", sep=',')\n",
        "df.head()"
      ],
      "execution_count": 2,
      "outputs": [
        {
          "output_type": "execute_result",
          "data": {
            "text/html": [
              "<div>\n",
              "<style scoped>\n",
              "    .dataframe tbody tr th:only-of-type {\n",
              "        vertical-align: middle;\n",
              "    }\n",
              "\n",
              "    .dataframe tbody tr th {\n",
              "        vertical-align: top;\n",
              "    }\n",
              "\n",
              "    .dataframe thead th {\n",
              "        text-align: right;\n",
              "    }\n",
              "</style>\n",
              "<table border=\"1\" class=\"dataframe\">\n",
              "  <thead>\n",
              "    <tr style=\"text-align: right;\">\n",
              "      <th></th>\n",
              "      <th>A_sadness</th>\n",
              "      <th>A_neutral</th>\n",
              "      <th>A_anger</th>\n",
              "      <th>A_fear</th>\n",
              "      <th>A_joy</th>\n",
              "      <th>D_anger</th>\n",
              "      <th>D_fear</th>\n",
              "      <th>D_joy</th>\n",
              "      <th>D_neutral</th>\n",
              "      <th>D_sadness</th>\n",
              "      <th>Emotion</th>\n",
              "    </tr>\n",
              "  </thead>\n",
              "  <tbody>\n",
              "    <tr>\n",
              "      <th>0</th>\n",
              "      <td>-0.660100</td>\n",
              "      <td>3.330109</td>\n",
              "      <td>-1.251925</td>\n",
              "      <td>-2.181378</td>\n",
              "      <td>0.970935</td>\n",
              "      <td>0.120873</td>\n",
              "      <td>0.035028</td>\n",
              "      <td>0.097299</td>\n",
              "      <td>0.646314</td>\n",
              "      <td>0.100486</td>\n",
              "      <td>neutral</td>\n",
              "    </tr>\n",
              "    <tr>\n",
              "      <th>1</th>\n",
              "      <td>4.430455</td>\n",
              "      <td>-1.516692</td>\n",
              "      <td>-1.831247</td>\n",
              "      <td>-1.613842</td>\n",
              "      <td>-1.572614</td>\n",
              "      <td>0.235500</td>\n",
              "      <td>0.014428</td>\n",
              "      <td>0.002355</td>\n",
              "      <td>0.001166</td>\n",
              "      <td>0.746552</td>\n",
              "      <td>sadness</td>\n",
              "    </tr>\n",
              "    <tr>\n",
              "      <th>2</th>\n",
              "      <td>-0.654082</td>\n",
              "      <td>-0.279211</td>\n",
              "      <td>-0.169575</td>\n",
              "      <td>3.688235</td>\n",
              "      <td>-0.960192</td>\n",
              "      <td>0.814514</td>\n",
              "      <td>0.103679</td>\n",
              "      <td>0.005435</td>\n",
              "      <td>0.001215</td>\n",
              "      <td>0.075157</td>\n",
              "      <td>fear</td>\n",
              "    </tr>\n",
              "    <tr>\n",
              "      <th>3</th>\n",
              "      <td>-0.619089</td>\n",
              "      <td>-0.701786</td>\n",
              "      <td>-1.183047</td>\n",
              "      <td>4.495426</td>\n",
              "      <td>-0.520090</td>\n",
              "      <td>0.047783</td>\n",
              "      <td>0.922531</td>\n",
              "      <td>0.012216</td>\n",
              "      <td>0.001373</td>\n",
              "      <td>0.016098</td>\n",
              "      <td>fear</td>\n",
              "    </tr>\n",
              "    <tr>\n",
              "      <th>4</th>\n",
              "      <td>-1.082386</td>\n",
              "      <td>-1.405175</td>\n",
              "      <td>4.720406</td>\n",
              "      <td>-1.647028</td>\n",
              "      <td>-1.497529</td>\n",
              "      <td>0.975389</td>\n",
              "      <td>0.002286</td>\n",
              "      <td>0.000162</td>\n",
              "      <td>0.000016</td>\n",
              "      <td>0.022147</td>\n",
              "      <td>anger</td>\n",
              "    </tr>\n",
              "  </tbody>\n",
              "</table>\n",
              "</div>"
            ],
            "text/plain": [
              "   A_sadness  A_neutral   A_anger  ...  D_neutral  D_sadness  Emotion\n",
              "0  -0.660100   3.330109 -1.251925  ...   0.646314   0.100486  neutral\n",
              "1   4.430455  -1.516692 -1.831247  ...   0.001166   0.746552  sadness\n",
              "2  -0.654082  -0.279211 -0.169575  ...   0.001215   0.075157     fear\n",
              "3  -0.619089  -0.701786 -1.183047  ...   0.001373   0.016098     fear\n",
              "4  -1.082386  -1.405175  4.720406  ...   0.000016   0.022147    anger\n",
              "\n",
              "[5 rows x 11 columns]"
            ]
          },
          "metadata": {
            "tags": []
          },
          "execution_count": 2
        }
      ]
    },
    {
      "cell_type": "code",
      "metadata": {
        "colab": {
          "base_uri": "https://localhost:8080/",
          "height": 297
        },
        "id": "vXDYfqINYHpK",
        "outputId": "a8c42fc1-7169-4e9f-cf41-6507d413eede"
      },
      "source": [
        "sns.countplot(x = 'Emotion', data=df)"
      ],
      "execution_count": 3,
      "outputs": [
        {
          "output_type": "execute_result",
          "data": {
            "text/plain": [
              "<matplotlib.axes._subplots.AxesSubplot at 0x7f8765809610>"
            ]
          },
          "metadata": {
            "tags": []
          },
          "execution_count": 3
        },
        {
          "output_type": "display_data",
          "data": {
            "image/png": "[encoded data removed]",
            "text/plain": [
              "<Figure size 432x288 with 1 Axes>"
            ]
          },
          "metadata": {
            "tags": [],
            "needs_background": "light"
          }
        }
      ]
    },
    {
      "cell_type": "code",
      "metadata": {
        "id": "_dj2MmWWYM8b"
      },
      "source": [
        "class2idx = {\n",
        "    'sadness':0,\n",
        "    'neutral':1,\n",
        "    'anger':2,\n",
        "    'fear':3,\n",
        "    'joy':4,\n",
        "}\n",
        "\n",
        "idx2class = {v: k for k, v in class2idx.items()}\n",
        "\n",
        "df['Emotion'].replace(class2idx, inplace=True)"
      ],
      "execution_count": 4,
      "outputs": []
    },
    {
      "cell_type": "code",
      "metadata": {
        "colab": {
          "base_uri": "https://localhost:8080/",
          "height": 204
        },
        "id": "GiWePMgQg47V",
        "outputId": "54ae0584-6be9-40ea-9c64-f8432203e9d0"
      },
      "source": [
        "df.head()"
      ],
      "execution_count": 5,
      "outputs": [
        {
          "output_type": "execute_result",
          "data": {
            "text/html": [
              "<div>\n",
              "<style scoped>\n",
              "    .dataframe tbody tr th:only-of-type {\n",
              "        vertical-align: middle;\n",
              "    }\n",
              "\n",
              "    .dataframe tbody tr th {\n",
              "        vertical-align: top;\n",
              "    }\n",
              "\n",
              "    .dataframe thead th {\n",
              "        text-align: right;\n",
              "    }\n",
              "</style>\n",
              "<table border=\"1\" class=\"dataframe\">\n",
              "  <thead>\n",
              "    <tr style=\"text-align: right;\">\n",
              "      <th></th>\n",
              "      <th>A_sadness</th>\n",
              "      <th>A_neutral</th>\n",
              "      <th>A_anger</th>\n",
              "      <th>A_fear</th>\n",
              "      <th>A_joy</th>\n",
              "      <th>D_anger</th>\n",
              "      <th>D_fear</th>\n",
              "      <th>D_joy</th>\n",
              "      <th>D_neutral</th>\n",
              "      <th>D_sadness</th>\n",
              "      <th>Emotion</th>\n",
              "    </tr>\n",
              "  </thead>\n",
              "  <tbody>\n",
              "    <tr>\n",
              "      <th>0</th>\n",
              "      <td>-0.660100</td>\n",
              "      <td>3.330109</td>\n",
              "      <td>-1.251925</td>\n",
              "      <td>-2.181378</td>\n",
              "      <td>0.970935</td>\n",
              "      <td>0.120873</td>\n",
              "      <td>0.035028</td>\n",
              "      <td>0.097299</td>\n",
              "      <td>0.646314</td>\n",
              "      <td>0.100486</td>\n",
              "      <td>1</td>\n",
              "    </tr>\n",
              "    <tr>\n",
              "      <th>1</th>\n",
              "      <td>4.430455</td>\n",
              "      <td>-1.516692</td>\n",
              "      <td>-1.831247</td>\n",
              "      <td>-1.613842</td>\n",
              "      <td>-1.572614</td>\n",
              "      <td>0.235500</td>\n",
              "      <td>0.014428</td>\n",
              "      <td>0.002355</td>\n",
              "      <td>0.001166</td>\n",
              "      <td>0.746552</td>\n",
              "      <td>0</td>\n",
              "    </tr>\n",
              "    <tr>\n",
              "      <th>2</th>\n",
              "      <td>-0.654082</td>\n",
              "      <td>-0.279211</td>\n",
              "      <td>-0.169575</td>\n",
              "      <td>3.688235</td>\n",
              "      <td>-0.960192</td>\n",
              "      <td>0.814514</td>\n",
              "      <td>0.103679</td>\n",
              "      <td>0.005435</td>\n",
              "      <td>0.001215</td>\n",
              "      <td>0.075157</td>\n",
              "      <td>3</td>\n",
              "    </tr>\n",
              "    <tr>\n",
              "      <th>3</th>\n",
              "      <td>-0.619089</td>\n",
              "      <td>-0.701786</td>\n",
              "      <td>-1.183047</td>\n",
              "      <td>4.495426</td>\n",
              "      <td>-0.520090</td>\n",
              "      <td>0.047783</td>\n",
              "      <td>0.922531</td>\n",
              "      <td>0.012216</td>\n",
              "      <td>0.001373</td>\n",
              "      <td>0.016098</td>\n",
              "      <td>3</td>\n",
              "    </tr>\n",
              "    <tr>\n",
              "      <th>4</th>\n",
              "      <td>-1.082386</td>\n",
              "      <td>-1.405175</td>\n",
              "      <td>4.720406</td>\n",
              "      <td>-1.647028</td>\n",
              "      <td>-1.497529</td>\n",
              "      <td>0.975389</td>\n",
              "      <td>0.002286</td>\n",
              "      <td>0.000162</td>\n",
              "      <td>0.000016</td>\n",
              "      <td>0.022147</td>\n",
              "      <td>2</td>\n",
              "    </tr>\n",
              "  </tbody>\n",
              "</table>\n",
              "</div>"
            ],
            "text/plain": [
              "   A_sadness  A_neutral   A_anger  ...  D_neutral  D_sadness  Emotion\n",
              "0  -0.660100   3.330109 -1.251925  ...   0.646314   0.100486        1\n",
              "1   4.430455  -1.516692 -1.831247  ...   0.001166   0.746552        0\n",
              "2  -0.654082  -0.279211 -0.169575  ...   0.001215   0.075157        3\n",
              "3  -0.619089  -0.701786 -1.183047  ...   0.001373   0.016098        3\n",
              "4  -1.082386  -1.405175  4.720406  ...   0.000016   0.022147        2\n",
              "\n",
              "[5 rows x 11 columns]"
            ]
          },
          "metadata": {
            "tags": []
          },
          "execution_count": 5
        }
      ]
    },
    {
      "cell_type": "code",
      "metadata": {
        "id": "4EDwIQGNs3gy"
      },
      "source": [
        "#we need to remove the data that was used to train the level 1 classifiers to prevent data seepage\n",
        "df = df.iloc[7933: , :]"
      ],
      "execution_count": 6,
      "outputs": []
    },
    {
      "cell_type": "code",
      "metadata": {
        "id": "iWeTPoFvYTG4"
      },
      "source": [
        "X = df.iloc[:, 0:-1]\n",
        "y = df.iloc[:, -1]"
      ],
      "execution_count": 7,
      "outputs": []
    },
    {
      "cell_type": "code",
      "metadata": {
        "id": "89kGWSJlYWbK"
      },
      "source": [
        "# Split into train+val and test\n",
        "X_trainval, X_test, y_trainval, y_test = train_test_split(X, y, test_size=0.15, stratify=y, random_state=69)\n",
        "\n",
        "# Split train into train-val\n",
        "X_train, X_val, y_train, y_val = train_test_split(X_trainval, y_trainval, test_size=0.2, stratify=y_trainval, random_state=21)"
      ],
      "execution_count": 8,
      "outputs": []
    },
    {
      "cell_type": "code",
      "metadata": {
        "colab": {
          "base_uri": "https://localhost:8080/",
          "height": 53
        },
        "id": "IOcHXN5kmQsZ",
        "outputId": "69532509-daf1-40d4-9525-9140fbeba148"
      },
      "source": [
        "'''# Split into train+val and test, using the same train set the constituant classifiers were trained on\n",
        "X_trainval, X_test, y_trainval, y_test = train_test_split(X, y, train_size = 7933, shuffle = False)\n",
        "\n",
        "# Split train into train-val\n",
        "X_train, X_val, y_train, y_val = train_test_split(X_trainval, y_trainval, test_size=0.1, stratify=y_trainval, random_state=21)'''"
      ],
      "execution_count": 9,
      "outputs": [
        {
          "output_type": "execute_result",
          "data": {
            "application/vnd.google.colaboratory.intrinsic+json": {
              "type": "string"
            },
            "text/plain": [
              "'# Split into train+val and test, using the same train set the constituant classifiers were trained on\\nX_trainval, X_test, y_trainval, y_test = train_test_split(X, y, train_size = 7933, shuffle = False)\\n\\n# Split train into train-val\\nX_train, X_val, y_train, y_val = train_test_split(X_trainval, y_trainval, test_size=0.1, stratify=y_trainval, random_state=21)'"
            ]
          },
          "metadata": {
            "tags": []
          },
          "execution_count": 9
        }
      ]
    },
    {
      "cell_type": "code",
      "metadata": {
        "id": "VMCzI83uYcE9"
      },
      "source": [
        "scaler = MinMaxScaler()\n",
        "X_train = scaler.fit_transform(X_train)\n",
        "X_val = scaler.transform(X_val)\n",
        "X_test = scaler.transform(X_test)\n",
        "X_train, y_train = np.array(X_train), np.array(y_train)\n",
        "X_val, y_val = np.array(X_val), np.array(y_val)\n",
        "X_test, y_test = np.array(X_test), np.array(y_test)"
      ],
      "execution_count": 10,
      "outputs": []
    },
    {
      "cell_type": "code",
      "metadata": {
        "id": "1x_AEHILYgHt"
      },
      "source": [
        "def get_class_distribution(obj):\n",
        "    count_dict = {\n",
        "        \"sadness\": 0,\n",
        "        \"neutral\": 0,\n",
        "        \"anger\": 0,\n",
        "        \"fear\": 0,\n",
        "        \"joy\": 0,\n",
        "    }\n",
        "    \n",
        "    for i in obj:\n",
        "        if i == 0: \n",
        "            count_dict['sadness'] += 1\n",
        "        elif i == 1: \n",
        "            count_dict['neutral'] += 1\n",
        "        elif i == 2: \n",
        "            count_dict['anger'] += 1\n",
        "        elif i == 3: \n",
        "            count_dict['fear'] += 1\n",
        "        elif i == 4: \n",
        "            count_dict['joy'] += 1            \n",
        "        else:\n",
        "            print(\"Check classes.\")\n",
        "            \n",
        "    return count_dict"
      ],
      "execution_count": 11,
      "outputs": []
    },
    {
      "cell_type": "code",
      "metadata": {
        "colab": {
          "base_uri": "https://localhost:8080/",
          "height": 476
        },
        "id": "jAsp45eyYjrM",
        "outputId": "4e88236f-87c3-4d24-adb1-7540d78932b3"
      },
      "source": [
        "fig, axes = plt.subplots(nrows=1, ncols=3, figsize=(25,7))\n",
        "# Train\n",
        "sns.barplot(data = pd.DataFrame.from_dict([get_class_distribution(y_train)]).melt(), x = \"variable\", y=\"value\", hue=\"variable\",  ax=axes[0]).set_title('Class Distribution in Train Set')# Validation\n",
        "sns.barplot(data = pd.DataFrame.from_dict([get_class_distribution(y_val)]).melt(), x = \"variable\", y=\"value\", hue=\"variable\",  ax=axes[1]).set_title('Class Distribution in Val Set')# Test\n",
        "sns.barplot(data = pd.DataFrame.from_dict([get_class_distribution(y_test)]).melt(), x = \"variable\", y=\"value\", hue=\"variable\",  ax=axes[2]).set_title('Class Distribution in Test Set')"
      ],
      "execution_count": 12,
      "outputs": [
        {
          "output_type": "execute_result",
          "data": {
            "text/plain": [
              "Text(0.5, 1.0, 'Class Distribution in Test Set')"
            ]
          },
          "metadata": {
            "tags": []
          },
          "execution_count": 12
        },
        {
          "output_type": "display_data",
          "data": {
            "image/png": "[encoded data removed]",
            "text/plain": [
              "<Figure size 1800x504 with 3 Axes>"
            ]
          },
          "metadata": {
            "tags": [],
            "needs_background": "light"
          }
        }
      ]
    },
    {
      "cell_type": "code",
      "metadata": {
        "id": "VD-6V3zmYsVl"
      },
      "source": [
        "class ClassifierDataset(Dataset):\n",
        "    \n",
        "    def __init__(self, X_data, y_data):\n",
        "        self.X_data = X_data\n",
        "        self.y_data = y_data\n",
        "        \n",
        "    def __getitem__(self, index):\n",
        "        return self.X_data[index], self.y_data[index]\n",
        "        \n",
        "    def __len__ (self):\n",
        "        return len(self.X_data)\n",
        "\n",
        "\n",
        "train_dataset = ClassifierDataset(torch.from_numpy(X_train).float(), torch.from_numpy(y_train).long())\n",
        "val_dataset = ClassifierDataset(torch.from_numpy(X_val).float(), torch.from_numpy(y_val).long())\n",
        "test_dataset = ClassifierDataset(torch.from_numpy(X_test).float(), torch.from_numpy(y_test).long())"
      ],
      "execution_count": 13,
      "outputs": []
    },
    {
      "cell_type": "code",
      "metadata": {
        "id": "6Y4uKVVaY3-i"
      },
      "source": [
        "target_list = []\n",
        "\n",
        "for _, t in train_dataset:\n",
        "    target_list.append(t)\n",
        "    \n",
        "target_list = torch.tensor(target_list)\n",
        "target_list = target_list[torch.randperm(len(target_list))]"
      ],
      "execution_count": 14,
      "outputs": []
    },
    {
      "cell_type": "code",
      "metadata": {
        "colab": {
          "base_uri": "https://localhost:8080/"
        },
        "id": "kqouHlOOY-vV",
        "outputId": "7fc61b96-8e90-499d-9849-3494417a85f6"
      },
      "source": [
        "class_count = [i for i in get_class_distribution(y_train).values()]\n",
        "class_weights = 1./torch.tensor(class_count, dtype=torch.float) \n",
        "print(class_weights)"
      ],
      "execution_count": 15,
      "outputs": [
        {
          "output_type": "stream",
          "text": [
            "tensor([0.0022, 0.0023, 0.0021, 0.0022, 0.0021])\n"
          ],
          "name": "stdout"
        }
      ]
    },
    {
      "cell_type": "code",
      "metadata": {
        "id": "xzbDFdh-ZDRH"
      },
      "source": [
        "class_weights_all = class_weights[target_list]"
      ],
      "execution_count": 16,
      "outputs": []
    },
    {
      "cell_type": "code",
      "metadata": {
        "id": "T8ZxYyi4ZFqe"
      },
      "source": [
        "weighted_sampler = WeightedRandomSampler(\n",
        "    weights=class_weights_all,\n",
        "    num_samples=len(class_weights_all),\n",
        "    replacement=True\n",
        ")"
      ],
      "execution_count": 17,
      "outputs": []
    },
    {
      "cell_type": "code",
      "metadata": {
        "id": "XNrMZk2kZKXM"
      },
      "source": [
        "EPOCHS = 100\n",
        "BATCH_SIZE = 16\n",
        "LEARNING_RATE = 0.00001\n",
        "\n",
        "NUM_FEATURES = len(X.columns)\n",
        "NUM_CLASSES = 5"
      ],
      "execution_count": 18,
      "outputs": []
    },
    {
      "cell_type": "code",
      "metadata": {
        "id": "_L7jgPS1ZQaT"
      },
      "source": [
        "train_loader = DataLoader(dataset=train_dataset,\n",
        "                          batch_size=BATCH_SIZE,\n",
        "                          sampler=weighted_sampler)\n",
        "val_loader = DataLoader(dataset=val_dataset, batch_size=1)\n",
        "test_loader = DataLoader(dataset=test_dataset, batch_size=1)"
      ],
      "execution_count": 19,
      "outputs": []
    },
    {
      "cell_type": "code",
      "metadata": {
        "id": "cyt9jZkZZYmU"
      },
      "source": [
        "class MulticlassClassification(nn.Module):\n",
        "    def __init__(self, num_feature, num_class):\n",
        "        super(MulticlassClassification, self).__init__()\n",
        "        \n",
        "        self.layer_1 = nn.Linear(num_feature, 512)\n",
        "        self.layer_2 = nn.Linear(512, 128)\n",
        "        self.layer_3 = nn.Linear(128, 64)\n",
        "        self.layer_out = nn.Linear(64, num_class) \n",
        "        \n",
        "        self.relu = nn.ReLU()\n",
        "        self.dropout = nn.Dropout(p=0.2)\n",
        "        self.batchnorm1 = nn.BatchNorm1d(512)\n",
        "        self.batchnorm2 = nn.BatchNorm1d(128)\n",
        "        self.batchnorm3 = nn.BatchNorm1d(64)\n",
        "        \n",
        "    def forward(self, x):\n",
        "        x = self.layer_1(x)\n",
        "        x = self.batchnorm1(x)\n",
        "        x = self.relu(x)\n",
        "        \n",
        "        x = self.layer_2(x)\n",
        "        x = self.batchnorm2(x)\n",
        "        x = self.relu(x)\n",
        "        x = self.dropout(x)\n",
        "        \n",
        "        x = self.layer_3(x)\n",
        "        x = self.batchnorm3(x)\n",
        "        x = self.relu(x)\n",
        "        x = self.dropout(x)\n",
        "        \n",
        "        x = self.layer_out(x)\n",
        "        \n",
        "        return x"
      ],
      "execution_count": 20,
      "outputs": []
    },
    {
      "cell_type": "code",
      "metadata": {
        "colab": {
          "base_uri": "https://localhost:8080/"
        },
        "id": "rSa4VUEYZdQf",
        "outputId": "d196b1ec-5eca-457e-b450-e8757dcd3443"
      },
      "source": [
        "device = torch.device(\"cuda:0\" if torch.cuda.is_available() else \"cpu\")\n",
        "print(device)"
      ],
      "execution_count": 21,
      "outputs": [
        {
          "output_type": "stream",
          "text": [
            "cpu\n"
          ],
          "name": "stdout"
        }
      ]
    },
    {
      "cell_type": "code",
      "metadata": {
        "colab": {
          "base_uri": "https://localhost:8080/"
        },
        "id": "5lLzfcfwZuOU",
        "outputId": "a197faee-a386-4d16-f0b3-5c28d858facc"
      },
      "source": [
        "model = MulticlassClassification(num_feature = NUM_FEATURES, num_class=NUM_CLASSES)\n",
        "model.to(device)\n",
        "\n",
        "criterion = nn.CrossEntropyLoss(weight=class_weights.to(device))\n",
        "optimizer = optim.Adam(model.parameters(), lr=LEARNING_RATE)\n",
        "\n",
        "print(model)"
      ],
      "execution_count": 22,
      "outputs": [
        {
          "output_type": "stream",
          "text": [
            "MulticlassClassification(\n",
            "  (layer_1): Linear(in_features=10, out_features=512, bias=True)\n",
            "  (layer_2): Linear(in_features=512, out_features=128, bias=True)\n",
            "  (layer_3): Linear(in_features=128, out_features=64, bias=True)\n",
            "  (layer_out): Linear(in_features=64, out_features=5, bias=True)\n",
            "  (relu): ReLU()\n",
            "  (dropout): Dropout(p=0.2, inplace=False)\n",
            "  (batchnorm1): BatchNorm1d(512, eps=1e-05, momentum=0.1, affine=True, track_running_stats=True)\n",
            "  (batchnorm2): BatchNorm1d(128, eps=1e-05, momentum=0.1, affine=True, track_running_stats=True)\n",
            "  (batchnorm3): BatchNorm1d(64, eps=1e-05, momentum=0.1, affine=True, track_running_stats=True)\n",
            ")\n"
          ],
          "name": "stdout"
        }
      ]
    },
    {
      "cell_type": "code",
      "metadata": {
        "id": "_DSff1DpZyF_"
      },
      "source": [
        "def multi_acc(y_pred, y_test):\n",
        "    y_pred_softmax = torch.log_softmax(y_pred, dim = 1)\n",
        "    _, y_pred_tags = torch.max(y_pred_softmax, dim = 1)    \n",
        "    \n",
        "    correct_pred = (y_pred_tags == y_test).float()\n",
        "    acc = correct_pred.sum() / len(correct_pred)\n",
        "    \n",
        "    acc = torch.round(acc * 100)\n",
        "    \n",
        "    return acc"
      ],
      "execution_count": 23,
      "outputs": []
    },
    {
      "cell_type": "code",
      "metadata": {
        "id": "ERfXF_FMZ1Ob"
      },
      "source": [
        "accuracy_stats = {\n",
        "    'train': [],\n",
        "    \"val\": []\n",
        "}\n",
        "loss_stats = {\n",
        "    'train': [],\n",
        "    \"val\": []\n",
        "}"
      ],
      "execution_count": 24,
      "outputs": []
    },
    {
      "cell_type": "code",
      "metadata": {
        "colab": {
          "base_uri": "https://localhost:8080/",
          "height": 1000,
          "referenced_widgets": [
            "39c9dd9dc5444553995a399cee8c9c7c",
            "0a15da0cfd5a4725b71679eb39f063ba",
            "acfdb33accc843e9b16050a9d555da68",
            "fdddd1728a1a482f818fcbad7f4ff454",
            "5959fd9f99fb4dbdb26ea99ca735700e",
            "af91959a59c5480eab57a3f7f472da41",
            "c36ea450a6d64cf29aeba5c9b50623f0",
            "2ae3fa8ed275474b9f00030c5d5ff785"
          ]
        },
        "id": "O2gJmM25Z5nr",
        "outputId": "7b3b200e-468f-4120-e494-21ef595c4f5d"
      },
      "source": [
        "print(\"Begin training.\")\n",
        "\n",
        "for e in tqdm(range(1, EPOCHS+1)):\n",
        "    # TRAINING\n",
        "    train_epoch_loss = 0\n",
        "    train_epoch_acc = 0\n",
        "\n",
        "    model.train()\n",
        "    for X_train_batch, y_train_batch in train_loader:\n",
        "        X_train_batch, y_train_batch = X_train_batch.to(device), y_train_batch.to(device)\n",
        "        optimizer.zero_grad()\n",
        "        \n",
        "        y_train_pred = model(X_train_batch)\n",
        "        \n",
        "        train_loss = criterion(y_train_pred, y_train_batch)\n",
        "        train_acc = multi_acc(y_train_pred, y_train_batch)\n",
        "        \n",
        "        train_loss.backward()\n",
        "        optimizer.step()\n",
        "        \n",
        "        train_epoch_loss += train_loss.item()\n",
        "        train_epoch_acc += train_acc.item()\n",
        "        \n",
        "        \n",
        "    # VALIDATION    \n",
        "    with torch.no_grad():\n",
        "        \n",
        "        val_epoch_loss = 0\n",
        "        val_epoch_acc = 0\n",
        "        \n",
        "        model.eval()\n",
        "        for X_val_batch, y_val_batch in val_loader:\n",
        "            X_val_batch, y_val_batch = X_val_batch.to(device), y_val_batch.to(device)\n",
        "            \n",
        "            y_val_pred = model(X_val_batch)\n",
        "                        \n",
        "            val_loss = criterion(y_val_pred, y_val_batch)\n",
        "            val_acc = multi_acc(y_val_pred, y_val_batch)\n",
        "            \n",
        "            val_epoch_loss += val_loss.item()\n",
        "            val_epoch_acc += val_acc.item()\n",
        "\n",
        "    loss_stats['train'].append(train_epoch_loss/len(train_loader))\n",
        "    loss_stats['val'].append(val_epoch_loss/len(val_loader))\n",
        "    accuracy_stats['train'].append(train_epoch_acc/len(train_loader))\n",
        "    accuracy_stats['val'].append(val_epoch_acc/len(val_loader))\n",
        "                              \n",
        "    \n",
        "    print(f'Epoch {e+0:03}: | Train Loss: {train_epoch_loss/len(train_loader):.5f} | Val Loss: {val_epoch_loss/len(val_loader):.5f} | Train Acc: {train_epoch_acc/len(train_loader):.3f}| Val Acc: {val_epoch_acc/len(val_loader):.3f}')\n"
      ],
      "execution_count": 25,
      "outputs": [
        {
          "output_type": "stream",
          "text": [
            "Begin training.\n"
          ],
          "name": "stdout"
        },
        {
          "output_type": "display_data",
          "data": {
            "application/vnd.jupyter.widget-view+json": {
              "model_id": "39c9dd9dc5444553995a399cee8c9c7c",
              "version_minor": 0,
              "version_major": 2
            },
            "text/plain": [
              "HBox(children=(FloatProgress(value=0.0), HTML(value='')))"
            ]
          },
          "metadata": {
            "tags": []
          }
        },
        {
          "output_type": "stream",
          "text": [
            "Epoch 001: | Train Loss: 1.50724 | Val Loss: 1.27404 | Train Acc: 32.883| Val Acc: 58.406\n",
            "Epoch 002: | Train Loss: 1.25411 | Val Loss: 1.09974 | Train Acc: 57.876| Val Acc: 78.336\n",
            "Epoch 003: | Train Loss: 1.11442 | Val Loss: 0.99507 | Train Acc: 68.766| Val Acc: 79.896\n",
            "Epoch 004: | Train Loss: 1.02865 | Val Loss: 0.92226 | Train Acc: 73.524| Val Acc: 81.976\n",
            "Epoch 005: | Train Loss: 0.99233 | Val Loss: 0.86484 | Train Acc: 74.434| Val Acc: 82.496\n",
            "Epoch 006: | Train Loss: 0.92312 | Val Loss: 0.84967 | Train Acc: 77.041| Val Acc: 82.496\n",
            "Epoch 007: | Train Loss: 0.91631 | Val Loss: 0.79239 | Train Acc: 76.800| Val Acc: 82.842\n",
            "Epoch 008: | Train Loss: 0.86307 | Val Loss: 0.79280 | Train Acc: 78.566| Val Acc: 82.322\n",
            "Epoch 009: | Train Loss: 0.85287 | Val Loss: 0.74722 | Train Acc: 77.407| Val Acc: 83.536\n",
            "Epoch 010: | Train Loss: 0.80511 | Val Loss: 0.73573 | Train Acc: 81.172| Val Acc: 83.536\n",
            "Epoch 011: | Train Loss: 0.82380 | Val Loss: 0.72469 | Train Acc: 79.090| Val Acc: 83.536\n",
            "Epoch 012: | Train Loss: 0.82544 | Val Loss: 0.69474 | Train Acc: 78.393| Val Acc: 82.669\n",
            "Epoch 013: | Train Loss: 0.77208 | Val Loss: 0.68908 | Train Acc: 80.290| Val Acc: 83.709\n",
            "Epoch 014: | Train Loss: 0.75333 | Val Loss: 0.66986 | Train Acc: 80.772| Val Acc: 83.709\n",
            "Epoch 015: | Train Loss: 0.78045 | Val Loss: 0.67700 | Train Acc: 79.276| Val Acc: 83.882\n",
            "Epoch 016: | Train Loss: 0.77815 | Val Loss: 0.65264 | Train Acc: 78.393| Val Acc: 83.016\n",
            "Epoch 017: | Train Loss: 0.77730 | Val Loss: 0.65300 | Train Acc: 79.152| Val Acc: 83.362\n",
            "Epoch 018: | Train Loss: 0.76936 | Val Loss: 0.64413 | Train Acc: 78.428| Val Acc: 83.016\n",
            "Epoch 019: | Train Loss: 0.74813 | Val Loss: 0.62968 | Train Acc: 80.414| Val Acc: 83.536\n",
            "Epoch 020: | Train Loss: 0.73642 | Val Loss: 0.63417 | Train Acc: 79.917| Val Acc: 83.189\n",
            "Epoch 021: | Train Loss: 0.73341 | Val Loss: 0.61588 | Train Acc: 79.241| Val Acc: 83.882\n",
            "Epoch 022: | Train Loss: 0.71878 | Val Loss: 0.62168 | Train Acc: 79.828| Val Acc: 83.362\n",
            "Epoch 023: | Train Loss: 0.70250 | Val Loss: 0.60329 | Train Acc: 80.552| Val Acc: 83.536\n",
            "Epoch 024: | Train Loss: 0.71999 | Val Loss: 0.60729 | Train Acc: 79.993| Val Acc: 83.536\n",
            "Epoch 025: | Train Loss: 0.71492 | Val Loss: 0.60912 | Train Acc: 79.786| Val Acc: 83.362\n",
            "Epoch 026: | Train Loss: 0.70029 | Val Loss: 0.58320 | Train Acc: 80.207| Val Acc: 83.536\n",
            "Epoch 027: | Train Loss: 0.72011 | Val Loss: 0.61414 | Train Acc: 80.041| Val Acc: 83.189\n",
            "Epoch 028: | Train Loss: 0.67964 | Val Loss: 0.60171 | Train Acc: 80.634| Val Acc: 83.709\n",
            "Epoch 029: | Train Loss: 0.73906 | Val Loss: 0.59327 | Train Acc: 78.234| Val Acc: 83.536\n",
            "Epoch 030: | Train Loss: 0.69664 | Val Loss: 0.59051 | Train Acc: 80.145| Val Acc: 83.362\n",
            "Epoch 031: | Train Loss: 0.67538 | Val Loss: 0.56725 | Train Acc: 81.124| Val Acc: 83.536\n",
            "Epoch 032: | Train Loss: 0.70491 | Val Loss: 0.58367 | Train Acc: 79.021| Val Acc: 83.709\n",
            "Epoch 033: | Train Loss: 0.69557 | Val Loss: 0.57702 | Train Acc: 79.752| Val Acc: 83.882\n",
            "Epoch 034: | Train Loss: 0.67430 | Val Loss: 0.56748 | Train Acc: 80.497| Val Acc: 83.709\n",
            "Epoch 035: | Train Loss: 0.66772 | Val Loss: 0.57501 | Train Acc: 80.103| Val Acc: 83.709\n",
            "Epoch 036: | Train Loss: 0.69960 | Val Loss: 0.56091 | Train Acc: 80.193| Val Acc: 83.362\n",
            "Epoch 037: | Train Loss: 0.68492 | Val Loss: 0.55871 | Train Acc: 80.228| Val Acc: 83.709\n",
            "Epoch 038: | Train Loss: 0.67859 | Val Loss: 0.54731 | Train Acc: 80.366| Val Acc: 83.189\n",
            "Epoch 039: | Train Loss: 0.65622 | Val Loss: 0.57369 | Train Acc: 80.890| Val Acc: 83.882\n",
            "Epoch 040: | Train Loss: 0.64517 | Val Loss: 0.54442 | Train Acc: 80.703| Val Acc: 83.536\n",
            "Epoch 041: | Train Loss: 0.66294 | Val Loss: 0.54387 | Train Acc: 80.007| Val Acc: 83.536\n",
            "Epoch 042: | Train Loss: 0.66407 | Val Loss: 0.56693 | Train Acc: 80.186| Val Acc: 84.402\n",
            "Epoch 043: | Train Loss: 0.68189 | Val Loss: 0.55804 | Train Acc: 79.345| Val Acc: 83.709\n",
            "Epoch 044: | Train Loss: 0.65604 | Val Loss: 0.54257 | Train Acc: 80.338| Val Acc: 83.882\n",
            "Epoch 045: | Train Loss: 0.65116 | Val Loss: 0.54442 | Train Acc: 80.455| Val Acc: 83.536\n",
            "Epoch 046: | Train Loss: 0.64499 | Val Loss: 0.54797 | Train Acc: 80.621| Val Acc: 83.362\n",
            "Epoch 047: | Train Loss: 0.64212 | Val Loss: 0.55099 | Train Acc: 80.710| Val Acc: 83.882\n",
            "Epoch 048: | Train Loss: 0.63046 | Val Loss: 0.55151 | Train Acc: 80.828| Val Acc: 83.709\n",
            "Epoch 049: | Train Loss: 0.63943 | Val Loss: 0.55350 | Train Acc: 80.862| Val Acc: 83.709\n",
            "Epoch 050: | Train Loss: 0.65876 | Val Loss: 0.54040 | Train Acc: 79.641| Val Acc: 84.402\n",
            "Epoch 051: | Train Loss: 0.63748 | Val Loss: 0.53555 | Train Acc: 80.848| Val Acc: 83.882\n",
            "Epoch 052: | Train Loss: 0.63764 | Val Loss: 0.52583 | Train Acc: 81.069| Val Acc: 83.882\n",
            "Epoch 053: | Train Loss: 0.62156 | Val Loss: 0.53746 | Train Acc: 81.538| Val Acc: 84.575\n",
            "Epoch 054: | Train Loss: 0.67360 | Val Loss: 0.54828 | Train Acc: 79.193| Val Acc: 83.536\n",
            "Epoch 055: | Train Loss: 0.65679 | Val Loss: 0.52852 | Train Acc: 80.110| Val Acc: 83.709\n",
            "Epoch 056: | Train Loss: 0.62575 | Val Loss: 0.54514 | Train Acc: 81.276| Val Acc: 83.882\n",
            "Epoch 057: | Train Loss: 0.61200 | Val Loss: 0.53721 | Train Acc: 81.883| Val Acc: 83.882\n",
            "Epoch 058: | Train Loss: 0.61135 | Val Loss: 0.52799 | Train Acc: 81.614| Val Acc: 84.055\n",
            "Epoch 059: | Train Loss: 0.60706 | Val Loss: 0.52928 | Train Acc: 81.510| Val Acc: 83.882\n",
            "Epoch 060: | Train Loss: 0.61293 | Val Loss: 0.52772 | Train Acc: 81.566| Val Acc: 84.055\n",
            "Epoch 061: | Train Loss: 0.62915 | Val Loss: 0.52738 | Train Acc: 80.621| Val Acc: 83.709\n",
            "Epoch 062: | Train Loss: 0.60809 | Val Loss: 0.53521 | Train Acc: 81.041| Val Acc: 83.709\n",
            "Epoch 063: | Train Loss: 0.61877 | Val Loss: 0.52570 | Train Acc: 80.848| Val Acc: 83.362\n",
            "Epoch 064: | Train Loss: 0.63948 | Val Loss: 0.51947 | Train Acc: 80.676| Val Acc: 84.575\n",
            "Epoch 065: | Train Loss: 0.65345 | Val Loss: 0.52095 | Train Acc: 79.248| Val Acc: 84.055\n",
            "Epoch 066: | Train Loss: 0.59993 | Val Loss: 0.52303 | Train Acc: 82.034| Val Acc: 84.402\n",
            "Epoch 067: | Train Loss: 0.65376 | Val Loss: 0.52860 | Train Acc: 79.193| Val Acc: 83.882\n",
            "Epoch 068: | Train Loss: 0.63409 | Val Loss: 0.51850 | Train Acc: 80.628| Val Acc: 83.882\n",
            "Epoch 069: | Train Loss: 0.60522 | Val Loss: 0.51629 | Train Acc: 81.662| Val Acc: 83.709\n",
            "Epoch 070: | Train Loss: 0.61571 | Val Loss: 0.52634 | Train Acc: 80.966| Val Acc: 83.882\n",
            "Epoch 071: | Train Loss: 0.62433 | Val Loss: 0.51982 | Train Acc: 79.890| Val Acc: 83.882\n",
            "Epoch 072: | Train Loss: 0.61082 | Val Loss: 0.52405 | Train Acc: 81.828| Val Acc: 82.842\n",
            "Epoch 073: | Train Loss: 0.61949 | Val Loss: 0.51337 | Train Acc: 79.834| Val Acc: 84.229\n",
            "Epoch 074: | Train Loss: 0.61631 | Val Loss: 0.52179 | Train Acc: 80.731| Val Acc: 83.709\n",
            "Epoch 075: | Train Loss: 0.62013 | Val Loss: 0.50353 | Train Acc: 80.814| Val Acc: 84.229\n",
            "Epoch 076: | Train Loss: 0.59950 | Val Loss: 0.51825 | Train Acc: 80.745| Val Acc: 83.362\n",
            "Epoch 077: | Train Loss: 0.59414 | Val Loss: 0.50968 | Train Acc: 81.103| Val Acc: 83.536\n",
            "Epoch 078: | Train Loss: 0.63139 | Val Loss: 0.50454 | Train Acc: 79.545| Val Acc: 83.536\n",
            "Epoch 079: | Train Loss: 0.62770 | Val Loss: 0.50421 | Train Acc: 80.248| Val Acc: 84.055\n",
            "Epoch 080: | Train Loss: 0.60338 | Val Loss: 0.52288 | Train Acc: 80.614| Val Acc: 83.189\n",
            "Epoch 081: | Train Loss: 0.62096 | Val Loss: 0.51544 | Train Acc: 80.034| Val Acc: 83.882\n",
            "Epoch 082: | Train Loss: 0.59400 | Val Loss: 0.51468 | Train Acc: 81.290| Val Acc: 83.882\n",
            "Epoch 083: | Train Loss: 0.59970 | Val Loss: 0.51373 | Train Acc: 81.228| Val Acc: 84.055\n",
            "Epoch 084: | Train Loss: 0.63307 | Val Loss: 0.51190 | Train Acc: 79.014| Val Acc: 84.229\n",
            "Epoch 085: | Train Loss: 0.63446 | Val Loss: 0.50428 | Train Acc: 80.234| Val Acc: 84.055\n",
            "Epoch 086: | Train Loss: 0.60845 | Val Loss: 0.51238 | Train Acc: 80.503| Val Acc: 84.229\n",
            "Epoch 087: | Train Loss: 0.62690 | Val Loss: 0.50508 | Train Acc: 80.931| Val Acc: 83.709\n",
            "Epoch 088: | Train Loss: 0.63537 | Val Loss: 0.50773 | Train Acc: 79.634| Val Acc: 84.055\n",
            "Epoch 089: | Train Loss: 0.60054 | Val Loss: 0.50956 | Train Acc: 80.462| Val Acc: 83.709\n",
            "Epoch 090: | Train Loss: 0.58082 | Val Loss: 0.51872 | Train Acc: 81.848| Val Acc: 83.536\n",
            "Epoch 091: | Train Loss: 0.59374 | Val Loss: 0.51332 | Train Acc: 81.324| Val Acc: 84.229\n",
            "Epoch 092: | Train Loss: 0.60910 | Val Loss: 0.50753 | Train Acc: 80.690| Val Acc: 84.229\n",
            "Epoch 093: | Train Loss: 0.59364 | Val Loss: 0.50103 | Train Acc: 81.455| Val Acc: 84.402\n",
            "Epoch 094: | Train Loss: 0.62975 | Val Loss: 0.50311 | Train Acc: 78.786| Val Acc: 83.709\n",
            "Epoch 095: | Train Loss: 0.62936 | Val Loss: 0.50671 | Train Acc: 80.028| Val Acc: 83.709\n",
            "Epoch 096: | Train Loss: 0.61240 | Val Loss: 0.50335 | Train Acc: 80.469| Val Acc: 84.402\n",
            "Epoch 097: | Train Loss: 0.59357 | Val Loss: 0.50649 | Train Acc: 80.634| Val Acc: 83.709\n",
            "Epoch 098: | Train Loss: 0.61973 | Val Loss: 0.50514 | Train Acc: 80.931| Val Acc: 83.882\n",
            "Epoch 099: | Train Loss: 0.57039 | Val Loss: 0.49805 | Train Acc: 81.821| Val Acc: 83.882\n",
            "Epoch 100: | Train Loss: 0.57345 | Val Loss: 0.51915 | Train Acc: 82.469| Val Acc: 84.055\n",
            "\n"
          ],
          "name": "stdout"
        }
      ]
    },
    {
      "cell_type": "code",
      "metadata": {
        "colab": {
          "base_uri": "https://localhost:8080/",
          "height": 476
        },
        "id": "mU4lsT79aAJa",
        "outputId": "ca10c640-cd23-4f8a-b936-579013e1b050"
      },
      "source": [
        "# Create dataframes\n",
        "train_val_acc_df = pd.DataFrame.from_dict(accuracy_stats).reset_index().melt(id_vars=['index']).rename(columns={\"index\":\"epochs\"})\n",
        "train_val_loss_df = pd.DataFrame.from_dict(loss_stats).reset_index().melt(id_vars=['index']).rename(columns={\"index\":\"epochs\"})\n",
        "# Plot the dataframes\n",
        "fig, axes = plt.subplots(nrows=1, ncols=2, figsize=(20,7))\n",
        "sns.lineplot(data=train_val_acc_df, x = \"epochs\", y=\"value\", hue=\"variable\",  ax=axes[0]).set_title('Train-Val Accuracy/Epoch')\n",
        "sns.lineplot(data=train_val_loss_df, x = \"epochs\", y=\"value\", hue=\"variable\", ax=axes[1]).set_title('Train-Val Loss/Epoch')"
      ],
      "execution_count": 26,
      "outputs": [
        {
          "output_type": "execute_result",
          "data": {
            "text/plain": [
              "Text(0.5, 1.0, 'Train-Val Loss/Epoch')"
            ]
          },
          "metadata": {
            "tags": []
          },
          "execution_count": 26
        },
        {
          "output_type": "display_data",
          "data": {
            "image/png": "[encoded data removed]",
            "text/plain": [
              "<Figure size 1440x504 with 2 Axes>"
            ]
          },
          "metadata": {
            "tags": [],
            "needs_background": "light"
          }
        }
      ]
    },
    {
      "cell_type": "code",
      "metadata": {
        "id": "5Xs-4Uv7aNxM"
      },
      "source": [
        "y_pred_list = []\n",
        "\n",
        "with torch.no_grad():\n",
        "    model.eval()\n",
        "    for X_batch, _ in test_loader:\n",
        "        X_batch = X_batch.to(device)\n",
        "        y_test_pred = model(X_batch)\n",
        "        _, y_pred_tags = torch.max(y_test_pred, dim = 1)\n",
        "        y_pred_list.append(y_pred_tags.cpu().numpy())\n",
        "        \n",
        "y_pred_list = [a.squeeze().tolist() for a in y_pred_list]"
      ],
      "execution_count": 27,
      "outputs": []
    },
    {
      "cell_type": "code",
      "metadata": {
        "colab": {
          "base_uri": "https://localhost:8080/",
          "height": 283
        },
        "id": "yTERxwLcafFF",
        "outputId": "73c8c285-c0f2-417a-a0be-81d7a8e41060"
      },
      "source": [
        "confusion_matrix_df = pd.DataFrame(confusion_matrix(y_test, y_pred_list)).rename(columns=idx2class, index=idx2class)\n",
        "sns.heatmap(confusion_matrix_df, annot=True)"
      ],
      "execution_count": 28,
      "outputs": [
        {
          "output_type": "execute_result",
          "data": {
            "text/plain": [
              "<matplotlib.axes._subplots.AxesSubplot at 0x7f8764f71e90>"
            ]
          },
          "metadata": {
            "tags": []
          },
          "execution_count": 28
        },
        {
          "output_type": "display_data",
          "data": {
            "image/png": "[encoded data removed]",
            "text/plain": [
              "<Figure size 432x288 with 2 Axes>"
            ]
          },
          "metadata": {
            "tags": [],
            "needs_background": "light"
          }
        }
      ]
    },
    {
      "cell_type": "code",
      "metadata": {
        "colab": {
          "base_uri": "https://localhost:8080/"
        },
        "id": "DXEYebjjakAg",
        "outputId": "769faf0e-1744-48e1-a141-d2d4c297c403"
      },
      "source": [
        "print(classification_report(y_test, y_pred_list))"
      ],
      "execution_count": 29,
      "outputs": [
        {
          "output_type": "stream",
          "text": [
            "              precision    recall  f1-score   support\n",
            "\n",
            "           0       0.86      0.75      0.80       101\n",
            "           1       0.79      0.85      0.82        96\n",
            "           2       0.78      0.92      0.85       104\n",
            "           3       0.94      0.83      0.89       102\n",
            "           4       0.88      0.86      0.87       106\n",
            "\n",
            "    accuracy                           0.84       509\n",
            "   macro avg       0.85      0.84      0.84       509\n",
            "weighted avg       0.85      0.84      0.84       509\n",
            "\n"
          ],
          "name": "stdout"
        }
      ]
    }
  ]
}